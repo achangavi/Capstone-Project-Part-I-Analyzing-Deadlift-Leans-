{
 "cells": [
  {
   "cell_type": "markdown",
   "metadata": {},
   "source": [
    "# Capstone Project Part I: Initial Data Report\n",
    "\n",
    "**Overview**: In this Capstone Project, my goal is to develop a baseline model for a dataset containing spatial coordinates of various people doing deadlifts over time. The original idea was to build the data myself using pre-made videos of people doing squats and/or deadlifts, but due to time constraints, I used an existing dataset.  \n",
    "\n"
   ]
  },
  {
   "cell_type": "markdown",
   "metadata": {},
   "source": [
    "### Getting Started\n",
    "\n",
    "Our dataset comes from Kaggle [link](https://www.kaggle.com/datasets/venkatagandreti/deadlift-proper-lean-positions?resource=download).  \n",
    "\n",
    "This dataset captures the biomechanical variations in lean positions during a deadlift, categorized into right lean, neutral position, and left lean. It provides a structured set of coordinates to facilitate detailed analysis of body posture and motion dynamics during this exercise.\n",
    "\n",
    "Dataset Highlights:\n",
    "Type: Numerical data of coordinates representing different lean positions.\n",
    "Categories:\n",
    "Right Lean: Body tilted to the right during the deadlift.\n",
    "Neutral: Symmetrical and balanced posture.\n",
    "Left Lean: Body tilted to the left during the deadlift.\n",
    "Applications:\n",
    "Biomechanical and ergonomic studies\n",
    "Assessment of lifting techniques and postural imbalances\n",
    "Development of machine learning models for posture detection\n",
    "Injury prevention and fitness optimization\n",
    "Target Audience:\n",
    "This dataset is a valuable resource for researchers, fitness professionals, and data scientists interested in:\n",
    "\n",
    "Analyzing postural variations during deadlifts.\n",
    "Identifying potential risks or inefficiencies in lifting techniques.\n",
    "Training AI models for posture classification.\n",
    "File Format:\n",
    "Provided in an easy-to-use Excel file (.xlsx), the dataset includes clear labels and coordinate data for each lean category, ensuring compatibility with analytical tools like Python, R, and Excel.\n",
    "\n"
   ]
  },
  {
   "cell_type": "markdown",
   "metadata": {},
   "source": [
    "### Import Libraries:"
   ]
  },
  {
   "cell_type": "code",
   "execution_count": 154,
   "metadata": {},
   "outputs": [],
   "source": [
    "import pandas as pd\n",
    "import numpy as np\n",
    "from sklearn.preprocessing import LabelEncoder, StandardScaler\n",
    "from sklearn.model_selection import train_test_split, GridSearchCV, cross_val_score\n",
    "from sklearn.linear_model import LogisticRegression\n",
    "from sklearn.metrics import classification_report, confusion_matrix, ConfusionMatrixDisplay\n",
    "from sklearn.pipeline import Pipeline\n",
    "import matplotlib.pyplot as plt\n",
    "from sklearn.dummy import DummyClassifier\n",
    "import seaborn as sns\n",
    "import joblib\n",
    "\n"
   ]
  },
  {
   "cell_type": "markdown",
   "metadata": {},
   "source": [
    "Read and analyze data characteristics and missing values"
   ]
  },
  {
   "cell_type": "code",
   "execution_count": 155,
   "metadata": {},
   "outputs": [],
   "source": [
    "deadlift_leans = pd.read_excel(\"data/Lean_Up_Down.xlsx\")"
   ]
  },
  {
   "cell_type": "code",
   "execution_count": 156,
   "metadata": {},
   "outputs": [
    {
     "name": "stdout",
     "output_type": "stream",
     "text": [
      "<class 'pandas.core.frame.DataFrame'>\n",
      "RangeIndex: 506 entries, 0 to 505\n",
      "Columns: 133 entries, class to v(33)\n",
      "dtypes: float64(132), object(1)\n",
      "memory usage: 525.9+ KB\n"
     ]
    }
   ],
   "source": [
    "deadlift_leans.info()"
   ]
  },
  {
   "cell_type": "code",
   "execution_count": 157,
   "metadata": {},
   "outputs": [
    {
     "data": {
      "text/html": [
       "<div>\n",
       "<style scoped>\n",
       "    .dataframe tbody tr th:only-of-type {\n",
       "        vertical-align: middle;\n",
       "    }\n",
       "\n",
       "    .dataframe tbody tr th {\n",
       "        vertical-align: top;\n",
       "    }\n",
       "\n",
       "    .dataframe thead th {\n",
       "        text-align: right;\n",
       "    }\n",
       "</style>\n",
       "<table border=\"1\" class=\"dataframe\">\n",
       "  <thead>\n",
       "    <tr style=\"text-align: right;\">\n",
       "      <th></th>\n",
       "      <th>class</th>\n",
       "      <th>x(1)</th>\n",
       "      <th>y(1)</th>\n",
       "      <th>z(1)</th>\n",
       "      <th>v(1)</th>\n",
       "      <th>x(2)</th>\n",
       "      <th>y(2)</th>\n",
       "      <th>z(2)</th>\n",
       "      <th>v(2)</th>\n",
       "      <th>x(3)</th>\n",
       "      <th>...</th>\n",
       "      <th>z(31)</th>\n",
       "      <th>v(31)</th>\n",
       "      <th>x(32)</th>\n",
       "      <th>y(32)</th>\n",
       "      <th>z(32)</th>\n",
       "      <th>v(32)</th>\n",
       "      <th>x(33)</th>\n",
       "      <th>y(33)</th>\n",
       "      <th>z(33)</th>\n",
       "      <th>v(33)</th>\n",
       "    </tr>\n",
       "  </thead>\n",
       "  <tbody>\n",
       "    <tr>\n",
       "      <th>0</th>\n",
       "      <td>right</td>\n",
       "      <td>0.408363</td>\n",
       "      <td>0.343583</td>\n",
       "      <td>-0.205024</td>\n",
       "      <td>0.999969</td>\n",
       "      <td>0.410037</td>\n",
       "      <td>0.329441</td>\n",
       "      <td>-0.196978</td>\n",
       "      <td>0.999851</td>\n",
       "      <td>0.412525</td>\n",
       "      <td>...</td>\n",
       "      <td>0.187932</td>\n",
       "      <td>0.884979</td>\n",
       "      <td>0.471598</td>\n",
       "      <td>0.977845</td>\n",
       "      <td>0.026207</td>\n",
       "      <td>0.989654</td>\n",
       "      <td>0.417298</td>\n",
       "      <td>0.968315</td>\n",
       "      <td>0.112930</td>\n",
       "      <td>0.987596</td>\n",
       "    </tr>\n",
       "    <tr>\n",
       "      <th>1</th>\n",
       "      <td>right</td>\n",
       "      <td>0.403518</td>\n",
       "      <td>0.351661</td>\n",
       "      <td>-0.193637</td>\n",
       "      <td>0.999971</td>\n",
       "      <td>0.404802</td>\n",
       "      <td>0.338355</td>\n",
       "      <td>-0.185784</td>\n",
       "      <td>0.999859</td>\n",
       "      <td>0.407097</td>\n",
       "      <td>...</td>\n",
       "      <td>0.174833</td>\n",
       "      <td>0.867510</td>\n",
       "      <td>0.470104</td>\n",
       "      <td>0.976877</td>\n",
       "      <td>0.022118</td>\n",
       "      <td>0.987352</td>\n",
       "      <td>0.417031</td>\n",
       "      <td>0.973668</td>\n",
       "      <td>0.098876</td>\n",
       "      <td>0.985141</td>\n",
       "    </tr>\n",
       "    <tr>\n",
       "      <th>2</th>\n",
       "      <td>right</td>\n",
       "      <td>0.398337</td>\n",
       "      <td>0.355058</td>\n",
       "      <td>-0.213196</td>\n",
       "      <td>0.999974</td>\n",
       "      <td>0.399678</td>\n",
       "      <td>0.341999</td>\n",
       "      <td>-0.205672</td>\n",
       "      <td>0.999870</td>\n",
       "      <td>0.401907</td>\n",
       "      <td>...</td>\n",
       "      <td>0.191932</td>\n",
       "      <td>0.865473</td>\n",
       "      <td>0.469508</td>\n",
       "      <td>0.977041</td>\n",
       "      <td>0.037704</td>\n",
       "      <td>0.987422</td>\n",
       "      <td>0.416934</td>\n",
       "      <td>0.970681</td>\n",
       "      <td>0.116003</td>\n",
       "      <td>0.985368</td>\n",
       "    </tr>\n",
       "    <tr>\n",
       "      <th>3</th>\n",
       "      <td>right</td>\n",
       "      <td>0.390192</td>\n",
       "      <td>0.362887</td>\n",
       "      <td>-0.198765</td>\n",
       "      <td>0.999979</td>\n",
       "      <td>0.390951</td>\n",
       "      <td>0.347643</td>\n",
       "      <td>-0.193169</td>\n",
       "      <td>0.999893</td>\n",
       "      <td>0.393168</td>\n",
       "      <td>...</td>\n",
       "      <td>0.161936</td>\n",
       "      <td>0.880264</td>\n",
       "      <td>0.469738</td>\n",
       "      <td>0.977633</td>\n",
       "      <td>0.024460</td>\n",
       "      <td>0.988665</td>\n",
       "      <td>0.415238</td>\n",
       "      <td>0.969858</td>\n",
       "      <td>0.088767</td>\n",
       "      <td>0.987039</td>\n",
       "    </tr>\n",
       "    <tr>\n",
       "      <th>4</th>\n",
       "      <td>right</td>\n",
       "      <td>0.387154</td>\n",
       "      <td>0.365171</td>\n",
       "      <td>-0.192261</td>\n",
       "      <td>0.999985</td>\n",
       "      <td>0.387806</td>\n",
       "      <td>0.350596</td>\n",
       "      <td>-0.186136</td>\n",
       "      <td>0.999926</td>\n",
       "      <td>0.389886</td>\n",
       "      <td>...</td>\n",
       "      <td>0.140248</td>\n",
       "      <td>0.872530</td>\n",
       "      <td>0.469373</td>\n",
       "      <td>0.973640</td>\n",
       "      <td>0.026472</td>\n",
       "      <td>0.983936</td>\n",
       "      <td>0.415307</td>\n",
       "      <td>0.966856</td>\n",
       "      <td>0.067620</td>\n",
       "      <td>0.983888</td>\n",
       "    </tr>\n",
       "  </tbody>\n",
       "</table>\n",
       "<p>5 rows × 133 columns</p>\n",
       "</div>"
      ],
      "text/plain": [
       "   class      x(1)      y(1)      z(1)      v(1)      x(2)      y(2)  \\\n",
       "0  right  0.408363  0.343583 -0.205024  0.999969  0.410037  0.329441   \n",
       "1  right  0.403518  0.351661 -0.193637  0.999971  0.404802  0.338355   \n",
       "2  right  0.398337  0.355058 -0.213196  0.999974  0.399678  0.341999   \n",
       "3  right  0.390192  0.362887 -0.198765  0.999979  0.390951  0.347643   \n",
       "4  right  0.387154  0.365171 -0.192261  0.999985  0.387806  0.350596   \n",
       "\n",
       "       z(2)      v(2)      x(3)  ...     z(31)     v(31)     x(32)     y(32)  \\\n",
       "0 -0.196978  0.999851  0.412525  ...  0.187932  0.884979  0.471598  0.977845   \n",
       "1 -0.185784  0.999859  0.407097  ...  0.174833  0.867510  0.470104  0.976877   \n",
       "2 -0.205672  0.999870  0.401907  ...  0.191932  0.865473  0.469508  0.977041   \n",
       "3 -0.193169  0.999893  0.393168  ...  0.161936  0.880264  0.469738  0.977633   \n",
       "4 -0.186136  0.999926  0.389886  ...  0.140248  0.872530  0.469373  0.973640   \n",
       "\n",
       "      z(32)     v(32)     x(33)     y(33)     z(33)     v(33)  \n",
       "0  0.026207  0.989654  0.417298  0.968315  0.112930  0.987596  \n",
       "1  0.022118  0.987352  0.417031  0.973668  0.098876  0.985141  \n",
       "2  0.037704  0.987422  0.416934  0.970681  0.116003  0.985368  \n",
       "3  0.024460  0.988665  0.415238  0.969858  0.088767  0.987039  \n",
       "4  0.026472  0.983936  0.415307  0.966856  0.067620  0.983888  \n",
       "\n",
       "[5 rows x 133 columns]"
      ]
     },
     "execution_count": 157,
     "metadata": {},
     "output_type": "execute_result"
    }
   ],
   "source": [
    "deadlift_leans.head()"
   ]
  },
  {
   "cell_type": "code",
   "execution_count": 158,
   "metadata": {},
   "outputs": [
    {
     "data": {
      "text/plain": [
       "class    0\n",
       "x(1)     0\n",
       "y(1)     0\n",
       "z(1)     0\n",
       "v(1)     0\n",
       "        ..\n",
       "v(32)    0\n",
       "x(33)    0\n",
       "y(33)    0\n",
       "z(33)    0\n",
       "v(33)    0\n",
       "Length: 133, dtype: int64"
      ]
     },
     "execution_count": 158,
     "metadata": {},
     "output_type": "execute_result"
    }
   ],
   "source": [
    "deadlift_leans.isnull().sum()"
   ]
  },
  {
   "cell_type": "markdown",
   "metadata": {},
   "source": [
    "The dataset contains no missing values, so we can assign the appropriate inputs and outputs. "
   ]
  },
  {
   "cell_type": "code",
   "execution_count": 159,
   "metadata": {},
   "outputs": [],
   "source": [
    "X = deadlift_leans.drop(columns=['class'])\n",
    "y = deadlift_leans['class']\n",
    "le = LabelEncoder()\n",
    "y_encoded = le.fit_transform(y)\n"
   ]
  },
  {
   "cell_type": "code",
   "execution_count": 160,
   "metadata": {},
   "outputs": [],
   "source": [
    "X_train, X_test, y_train, y_test = train_test_split(\n",
    "    X, y_encoded, test_size=0.2, random_state=42, stratify=y_encoded\n",
    ")"
   ]
  },
  {
   "cell_type": "markdown",
   "metadata": {},
   "source": [
    "We can use the DummyClassifier approach to build a baseline model with the most frequent values in the dataset. "
   ]
  },
  {
   "cell_type": "code",
   "execution_count": 161,
   "metadata": {},
   "outputs": [
    {
     "name": "stdout",
     "output_type": "stream",
     "text": [
      "Baseline Classifier (Most Frequent) Report:\n",
      "              precision    recall  f1-score   support\n",
      "\n",
      "        left       0.37      1.00      0.54        38\n",
      "neutral_lean       0.00      0.00      0.00        37\n",
      "       right       0.00      0.00      0.00        27\n",
      "\n",
      "    accuracy                           0.37       102\n",
      "   macro avg       0.12      0.33      0.18       102\n",
      "weighted avg       0.14      0.37      0.20       102\n",
      "\n"
     ]
    },
    {
     "name": "stderr",
     "output_type": "stream",
     "text": [
      "c:\\Users\\achan\\anaconda3\\Lib\\site-packages\\sklearn\\metrics\\_classification.py:1565: UndefinedMetricWarning: Precision is ill-defined and being set to 0.0 in labels with no predicted samples. Use `zero_division` parameter to control this behavior.\n",
      "  _warn_prf(average, modifier, f\"{metric.capitalize()} is\", len(result))\n",
      "c:\\Users\\achan\\anaconda3\\Lib\\site-packages\\sklearn\\metrics\\_classification.py:1565: UndefinedMetricWarning: Precision is ill-defined and being set to 0.0 in labels with no predicted samples. Use `zero_division` parameter to control this behavior.\n",
      "  _warn_prf(average, modifier, f\"{metric.capitalize()} is\", len(result))\n",
      "c:\\Users\\achan\\anaconda3\\Lib\\site-packages\\sklearn\\metrics\\_classification.py:1565: UndefinedMetricWarning: Precision is ill-defined and being set to 0.0 in labels with no predicted samples. Use `zero_division` parameter to control this behavior.\n",
      "  _warn_prf(average, modifier, f\"{metric.capitalize()} is\", len(result))\n"
     ]
    }
   ],
   "source": [
    "dummy = DummyClassifier(strategy='most_frequent')\n",
    "dummy.fit(X_train, y_train)\n",
    "dummy_preds = dummy.predict(X_test)\n",
    "print(\"Baseline Classifier (Most Frequent) Report:\")\n",
    "print(classification_report(y_test, dummy_preds, target_names=le.classes_))"
   ]
  },
  {
   "cell_type": "markdown",
   "metadata": {},
   "source": [
    "We have established that the baseline model has an accuracy of 37 percent, and only predicts the majority class which is a 'left' deadlift lean. Now we can compare a LogisticRegression() model with hyperparameter tuning and GridSearch to find the most optimum parameters. "
   ]
  },
  {
   "cell_type": "code",
   "execution_count": 162,
   "metadata": {},
   "outputs": [],
   "source": [
    "scaler = StandardScaler()\n",
    "X_train_scaled = scaler.fit_transform(X_train)\n",
    "X_test_scaled = scaler.transform(X_test)"
   ]
  },
  {
   "cell_type": "code",
   "execution_count": 163,
   "metadata": {},
   "outputs": [
    {
     "name": "stdout",
     "output_type": "stream",
     "text": [
      "Best Logistic Regression Parameters: {'C': 100, 'penalty': 'l2', 'solver': 'lbfgs'}\n",
      "Logistic Regression Report:\n",
      "              precision    recall  f1-score   support\n",
      "\n",
      "        left       0.97      0.95      0.96        38\n",
      "neutral_lean       0.88      0.78      0.83        37\n",
      "       right       0.78      0.93      0.85        27\n",
      "\n",
      "    accuracy                           0.88       102\n",
      "   macro avg       0.88      0.89      0.88       102\n",
      "weighted avg       0.89      0.88      0.88       102\n",
      "\n"
     ]
    }
   ],
   "source": [
    "param_grid_logreg = {\n",
    "    'C': [0.01, 0.1, 1, 10, 100],\n",
    "    'penalty': ['l2'],\n",
    "    'solver': ['lbfgs']\n",
    "}\n",
    "grid_logreg = GridSearchCV(LogisticRegression(max_iter=1000), param_grid_logreg, cv=5, scoring='accuracy')\n",
    "grid_logreg.fit(X_train_scaled, y_train)\n",
    "best_logreg = grid_logreg.best_estimator_\n",
    "log_preds = best_logreg.predict(X_test_scaled)\n",
    "print(\"Best Logistic Regression Parameters:\", grid_logreg.best_params_)\n",
    "print(\"Logistic Regression Report:\")\n",
    "print(classification_report(y_test, log_preds, target_names=le.classes_))\n"
   ]
  },
  {
   "cell_type": "code",
   "execution_count": 164,
   "metadata": {},
   "outputs": [
    {
     "name": "stdout",
     "output_type": "stream",
     "text": [
      "Logistic Regression: 0.9356481481481481\n"
     ]
    }
   ],
   "source": [
    "print(\"Logistic Regression:\", cross_val_score(best_logreg, X_train_scaled, y_train, cv=5).mean())"
   ]
  },
  {
   "cell_type": "markdown",
   "metadata": {},
   "source": [
    "We can see significantly improved performance with an optimized LogisticRegression model, with an accuracy of 88.9 percent. "
   ]
  },
  {
   "cell_type": "code",
   "execution_count": 165,
   "metadata": {},
   "outputs": [
    {
     "data": {
      "image/png": "[encoded data removed]",
      "text/plain": [
       "<Figure size 640x480 with 2 Axes>"
      ]
     },
     "metadata": {},
     "output_type": "display_data"
    }
   ],
   "source": [
    "cm = confusion_matrix(y_test, log_preds)\n",
    "disp = ConfusionMatrixDisplay(confusion_matrix=cm, display_labels=le.classes_)\n",
    "disp.plot(cmap='Blues')\n",
    "plt.title(f\"Confusion Matrix: Logistic Regression\")\n",
    "plt.show()"
   ]
  },
  {
   "cell_type": "markdown",
   "metadata": {},
   "source": [
    "The confusion matrix highlights the accuracy of the optimized Logistic Regression model. Within the test set of data, both left and right deadlift lean labels yield similar results, with the neutral having slightly more incorrect predictions for left and right predicted deadlift leans.   "
   ]
  },
  {
   "cell_type": "markdown",
   "metadata": {},
   "source": [
    "### Path Forward:"
   ]
  },
  {
   "cell_type": "markdown",
   "metadata": {},
   "source": [
    "Now that we have established a baseline model, the next step is to identify the most important features within this dataset. We can do this using either the decision tree or random forest classifer. Using those, we can optimize our model even further, and compare our performance against several different models. "
   ]
  },
  {
   "cell_type": "markdown",
   "metadata": {},
   "source": []
  }
 ],
 "metadata": {
  "kernelspec": {
   "display_name": "base",
   "language": "python",
   "name": "python3"
  },
  "language_info": {
   "codemirror_mode": {
    "name": "ipython",
    "version": 3
   },
   "file_extension": ".py",
   "mimetype": "text/x-python",
   "name": "python",
   "nbconvert_exporter": "python",
   "pygments_lexer": "ipython3",
   "version": "3.12.7"
  },
  "widgets": {
   "application/vnd.jupyter.widget-state+json": {
    "state": {},
    "version_major": 2,
    "version_minor": 0
   }
  }
 },
 "nbformat": 4,
 "nbformat_minor": 4
}
